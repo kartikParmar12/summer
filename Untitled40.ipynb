{
  "nbformat": 4,
  "nbformat_minor": 0,
  "metadata": {
    "colab": {
      "provenance": [],
      "authorship_tag": "ABX9TyMd897kX7jAN5/mftiKOOfe",
      "include_colab_link": true
    },
    "kernelspec": {
      "name": "python3",
      "display_name": "Python 3"
    },
    "language_info": {
      "name": "python"
    }
  },
  "cells": [
    {
      "cell_type": "markdown",
      "metadata": {
        "id": "view-in-github",
        "colab_type": "text"
      },
      "source": [
        "<a href=\"https://colab.research.google.com/github/kartikParmar12/summer/blob/main/Untitled40.ipynb\" target=\"_parent\"><img src=\"https://colab.research.google.com/assets/colab-badge.svg\" alt=\"Open In Colab\"/></a>"
      ]
    },
    {
      "cell_type": "code",
      "execution_count": 1,
      "metadata": {
        "colab": {
          "base_uri": "https://localhost:8080/"
        },
        "id": "ddnwqwfeE9by",
        "outputId": "649b5eef-0b35-481c-ba4d-98a15fbeae98"
      },
      "outputs": [
        {
          "output_type": "stream",
          "name": "stdout",
          "text": [
            "Shared Data: 1\n",
            "Main Process: 1\n",
            "Shared Data: 2\n",
            "Main Process: 2\n",
            "Shared Data: 3\n",
            "Main Process: 3\n",
            "Shared Data: 4\n",
            "Main Process: 4\n",
            "Shared Data: 5\n",
            "Main Process: 5\n"
          ]
        }
      ],
      "source": [
        "import multiprocessing\n",
        "import time\n",
        "\n",
        "def shared_memory_task(shared_data):\n",
        "    for _ in range(5):\n",
        "        print(f\"Shared Data: {shared_data.value}\")\n",
        "        time.sleep(1)\n",
        "\n",
        "if __name__ == \"__main__\":\n",
        "    # Create a shared memory integer value\n",
        "    shared_data = multiprocessing.Value('i', 0)\n",
        "\n",
        "    # Properly create the Process object\n",
        "    process = multiprocessing.Process(\n",
        "        target=shared_memory_task, args=(shared_data,)\n",
        "    )\n",
        "\n",
        "    # Start the process\n",
        "    process.start()\n",
        "\n",
        "    for i in range(5):\n",
        "        shared_data.value += 1\n",
        "        print(f\"Main Process: {shared_data.value}\")\n",
        "        time.sleep(1)\n",
        "\n",
        "    # Wait for the subprocess to complete\n",
        "    process.join()\n"
      ]
    }
  ]
}