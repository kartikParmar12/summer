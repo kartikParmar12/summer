{
  "nbformat": 4,
  "nbformat_minor": 0,
  "metadata": {
    "colab": {
      "provenance": []
    },
    "kernelspec": {
      "name": "python3",
      "display_name": "Python 3"
    },
    "language_info": {
      "name": "python"
    }
  },
  "cells": [
    {
      "cell_type": "code",
      "execution_count": 1,
      "metadata": {
        "id": "KtY7kt5R0gwb"
      },
      "outputs": [],
      "source": [
        "import numpy"
      ]
    },
    {
      "cell_type": "code",
      "source": [
        "actual=numpy.random.binomial(1,0.9,size=1000)\n",
        "predicted=numpy.random.binomial(1,0.9,size=1000)"
      ],
      "metadata": {
        "id": "ZUfbEHSR0j8F"
      },
      "execution_count": 2,
      "outputs": []
    },
    {
      "cell_type": "code",
      "source": [
        "from sklearn import metrics\n",
        "import matplotlib.pyplot as plt"
      ],
      "metadata": {
        "id": "3J2YH7G90j-1"
      },
      "execution_count": 4,
      "outputs": []
    },
    {
      "cell_type": "code",
      "source": [
        "confusion_matrix=metrics.confusion_matrix(actual,predicted)\n",
        "cm_display=metrics.ConfusionMatrixDisplay(confusion_matrix=confusion_matrix,display_labels=[False,True])\n",
        "cm_display.plot()\n",
        "plt.show()"
      ],
      "metadata": {
        "colab": {
          "base_uri": "https://localhost:8080/",
          "height": 449
        },
        "id": "YRIwHcR50721",
        "outputId": "806d31de-1b71-4826-bfd8-d8e6e821b6fa"
      },
      "execution_count": 5,
      "outputs": [
        {
          "output_type": "display_data",
          "data": {
            "text/plain": [
              "<Figure size 640x480 with 2 Axes>"
            ],
            "image/png": "[encoded data removed]"
          },
          "metadata": {}
        }
      ]
    },
    {
      "cell_type": "code",
      "source": [
        "accuracy = metrics.accuracy_score(actual,predicted)\n",
        "print(accuracy)"
      ],
      "metadata": {
        "colab": {
          "base_uri": "https://localhost:8080/"
        },
        "id": "1PvxtUs9075s",
        "outputId": "534ff8d1-0562-4edb-8502-1a9d8acfff9b"
      },
      "execution_count": 6,
      "outputs": [
        {
          "output_type": "stream",
          "name": "stdout",
          "text": [
            "0.826\n"
          ]
        }
      ]
    },
    {
      "cell_type": "code",
      "source": [
        "precision=metrics.precision_score(actual,predicted)\n",
        "print(precision)"
      ],
      "metadata": {
        "colab": {
          "base_uri": "https://localhost:8080/"
        },
        "id": "5dLXWrcD08BU",
        "outputId": "d5761ead-ee7b-4464-a2f4-f28f0eb6592c"
      },
      "execution_count": 7,
      "outputs": [
        {
          "output_type": "stream",
          "name": "stdout",
          "text": [
            "0.891566265060241\n"
          ]
        }
      ]
    },
    {
      "cell_type": "code",
      "source": [
        "sensitivity_recall=metrics.recall_score(actual,predicted)\n",
        "print(sensitivity_recall)"
      ],
      "metadata": {
        "colab": {
          "base_uri": "https://localhost:8080/"
        },
        "id": "4jF-aBMy1cyZ",
        "outputId": "503dd4bb-e8c3-405c-f07f-de0070e0bd05"
      },
      "execution_count": 8,
      "outputs": [
        {
          "output_type": "stream",
          "name": "stdout",
          "text": [
            "0.9156355455568054\n"
          ]
        }
      ]
    },
    {
      "cell_type": "code",
      "source": [
        "specificity=metrics.recall_score(actual,predicted,pos_label=0)\n",
        "print(specificity)"
      ],
      "metadata": {
        "colab": {
          "base_uri": "https://localhost:8080/"
        },
        "id": "QaChqIlN1c05",
        "outputId": "a2b2136d-ff0f-4762-f89e-e610af2ba4a8"
      },
      "execution_count": 9,
      "outputs": [
        {
          "output_type": "stream",
          "name": "stdout",
          "text": [
            "0.10810810810810811\n"
          ]
        }
      ]
    },
    {
      "cell_type": "code",
      "source": [
        "fi_score=metrics.f1_score(actual,predicted)\n",
        "print(fi_score)"
      ],
      "metadata": {
        "colab": {
          "base_uri": "https://localhost:8080/"
        },
        "id": "u4ofYrCV1c3x",
        "outputId": "2ec6d55a-6342-4af1-ae0b-98ea3d04d464"
      },
      "execution_count": 10,
      "outputs": [
        {
          "output_type": "stream",
          "name": "stdout",
          "text": [
            "0.9034406215316315\n"
          ]
        }
      ]
    }
  ]
}